{
  "nbformat": 4,
  "nbformat_minor": 0,
  "metadata": {
    "colab": {
      "name": "Untitled26.ipynb",
      "provenance": [],
      "authorship_tag": "ABX9TyPnxaP9q3uNvOoUqeAEQvKA",
      "include_colab_link": true
    },
    "kernelspec": {
      "name": "python3",
      "display_name": "Python 3"
    },
    "accelerator": "GPU"
  },
  "cells": [
    {
      "cell_type": "markdown",
      "metadata": {
        "id": "view-in-github",
        "colab_type": "text"
      },
      "source": [
        "<a href=\"https://colab.research.google.com/github/waynesid/image_classification/blob/master/cat_dog_classification.ipynb\" target=\"_parent\"><img src=\"https://colab.research.google.com/assets/colab-badge.svg\" alt=\"Open In Colab\"/></a>"
      ]
    },
    {
      "cell_type": "code",
      "metadata": {
        "id": "PQJQ1CJflQSC"
      },
      "source": [
        "import tensorflow as tf\n",
        "import matplotlib.pyplot as plt\n",
        "import numpy as np\n",
        "from keras.preprocessing.image import ImageDataGenerator\n",
        "import os"
      ],
      "execution_count": null,
      "outputs": []
    },
    {
      "cell_type": "code",
      "metadata": {
        "id": "vaEOzoG6lohu",
        "outputId": "b7ba58bb-e46f-469b-eb51-4e3e4f93f351",
        "colab": {
          "base_uri": "https://localhost:8080/",
          "height": 51
        }
      },
      "source": [
        "_URL = 'https://storage.googleapis.com/mledu-datasets/cats_and_dogs_filtered.zip'\n",
        "zip_dir = tf.keras.utils.get_file('cats_and_dog_filtered.zip',origin = _URL, extract = True)"
      ],
      "execution_count": null,
      "outputs": [
        {
          "output_type": "stream",
          "text": [
            "Downloading data from https://storage.googleapis.com/mledu-datasets/cats_and_dogs_filtered.zip\n",
            "68608000/68606236 [==============================] - 1s 0us/step\n"
          ],
          "name": "stdout"
        }
      ]
    },
    {
      "cell_type": "code",
      "metadata": {
        "id": "7-DBCo0Wl-v6",
        "outputId": "69366bf2-72f7-4655-ccd9-59751f2916be",
        "colab": {
          "base_uri": "https://localhost:8080/",
          "height": 153
        }
      },
      "source": [
        "zip_dir_base = os.path.dirname(zip_dir)\n",
        "!find $zip_dir_base -type d -print"
      ],
      "execution_count": null,
      "outputs": [
        {
          "output_type": "stream",
          "text": [
            "/root/.keras/datasets\n",
            "/root/.keras/datasets/cats_and_dogs_filtered\n",
            "/root/.keras/datasets/cats_and_dogs_filtered/validation\n",
            "/root/.keras/datasets/cats_and_dogs_filtered/validation/dogs\n",
            "/root/.keras/datasets/cats_and_dogs_filtered/validation/cats\n",
            "/root/.keras/datasets/cats_and_dogs_filtered/train\n",
            "/root/.keras/datasets/cats_and_dogs_filtered/train/dogs\n",
            "/root/.keras/datasets/cats_and_dogs_filtered/train/cats\n"
          ],
          "name": "stdout"
        }
      ]
    },
    {
      "cell_type": "code",
      "metadata": {
        "id": "j01Vdqf21Hfw"
      },
      "source": [
        "base_dir = os.path.join(os.path.dirname(zip_dir), 'cats_and_dogs_filtered')\n",
        "train_dir = os.path.join(base_dir, 'train')\n",
        "validation_dir = os.path.join(base_dir, 'validation')\n",
        "\n",
        "train_cat_dir = os.path.join(train_dir, 'cats')\n",
        "train_dogs_dir = os.path.join(train_dir, 'dogs')\n",
        "validation_cat_dir = os.path.join(validation_dir, 'cats')\n",
        "validation_dogs_dir = os.path.join(validation_dir, 'dogs')\n",
        "\n",
        "\n",
        "num_cats_tr = len(os.listdir(train_cat_dir))\n",
        "num_dog_tr = len(os.listdir(train_dogs_dir))\n",
        "\n",
        "num_cats_val = len(os.listdir(validation_cat_dir))\n",
        "num_dogs_val = len(os.listdir(validation_dogs_dir))\n",
        "\n",
        "total_train = num_cats_tr + num_dog_tr\n",
        "total_val = num_cats_val + num_dogs_val"
      ],
      "execution_count": null,
      "outputs": []
    },
    {
      "cell_type": "code",
      "metadata": {
        "id": "3umiONiA7clC",
        "outputId": "c7e0aade-6d01-4364-f2b4-a87a3fec182e",
        "colab": {
          "base_uri": "https://localhost:8080/",
          "height": 85
        }
      },
      "source": [
        "print(num_cats_tr)\n",
        "print(num_dog_tr)\n",
        "print(num_cats_val)\n",
        "print(num_dogs_val)"
      ],
      "execution_count": null,
      "outputs": [
        {
          "output_type": "stream",
          "text": [
            "1000\n",
            "1000\n",
            "500\n",
            "500\n"
          ],
          "name": "stdout"
        }
      ]
    },
    {
      "cell_type": "code",
      "metadata": {
        "id": "BvBf-I1574p9"
      },
      "source": [
        "BATCH_SIZE = 32\n",
        "IMG_SHAPE = 150"
      ],
      "execution_count": null,
      "outputs": []
    },
    {
      "cell_type": "code",
      "metadata": {
        "id": "F8xkOhYx8z82"
      },
      "source": [
        "train_image_generator = ImageDataGenerator(rescale = 1./255,\n",
        "                                           horizontal_flip = True,\n",
        "                                           zoom_range = 0.2,\n",
        "                                           vertical_flip = True,\n",
        "                                           rotation_range = 40,\n",
        "                                           width_shift_range = 0.2,\n",
        "                                           height_shift_range = 0.2,\n",
        "                                           shear_range = 0.2,\n",
        "                                           fill_mode = 'nearest')\n",
        "validation_image_generator = ImageDataGenerator(rescale=1./255)\n"
      ],
      "execution_count": null,
      "outputs": []
    },
    {
      "cell_type": "code",
      "metadata": {
        "id": "AkriCvW9_kkO",
        "outputId": "c0ba3fdc-f4e9-411f-8acd-8e961c3dabcb",
        "colab": {
          "base_uri": "https://localhost:8080/",
          "height": 51
        }
      },
      "source": [
        "train_data_gen = train_image_generator.flow_from_directory(directory = train_dir,\n",
        "                                                           batch_size = BATCH_SIZE,\n",
        "                                                           shuffle = True,\n",
        "                                                           target_size = (IMG_SHAPE, IMG_SHAPE),\n",
        "                                                           class_mode = 'binary'\n",
        "                                                           )\n",
        "validation_data_gen = validation_image_generator.flow_from_directory(directory = validation_dir,\n",
        "                                                             batch_size = BATCH_SIZE,\n",
        "                                                             shuffle = False,\n",
        "                                                             target_size = (IMG_SHAPE, IMG_SHAPE),\n",
        "                                                             class_mode = 'binary'\n",
        "                                                             )"
      ],
      "execution_count": null,
      "outputs": [
        {
          "output_type": "stream",
          "text": [
            "Found 2000 images belonging to 2 classes.\n",
            "Found 1000 images belonging to 2 classes.\n"
          ],
          "name": "stdout"
        }
      ]
    },
    {
      "cell_type": "code",
      "metadata": {
        "id": "mW4vSmpRBScj"
      },
      "source": [
        "model = tf.keras.models.Sequential([\n",
        "                                    tf.keras.layers.Conv2D(32, (3,3), padding = 'same', input_shape = (150,150, 3), activation = 'relu'),\n",
        "                                    tf.keras.layers.MaxPool2D(2,2),\n",
        "\n",
        "                                    tf.keras.layers.Conv2D(64, (3,3), padding = 'same', activation = 'relu'),\n",
        "                                    tf.keras.layers.MaxPool2D(2,2),\n",
        "\n",
        "                                    tf.keras.layers.Conv2D(128, (3,3), padding = 'same', activation ='relu'),\n",
        "                                    tf.keras.layers.MaxPool2D(2,2),\n",
        "\n",
        "                                    tf.keras.layers.Conv2D(128, (3,3), padding = 'same', activation ='relu'),\n",
        "                                    tf.keras.layers.MaxPool2D(2,2),\n",
        "\n",
        "                                    tf.keras.layers.Dropout(0.2),\n",
        "\n",
        "                                    tf.keras.layers.Flatten(),\n",
        "                                    tf.keras.layers.Dense(512, activation = 'relu'),\n",
        "                                    tf.keras.layers.Dense(2, activation = 'softmax')\n",
        "\n",
        "                        \n",
        "                            \n",
        "                            \n",
        "])"
      ],
      "execution_count": null,
      "outputs": []
    },
    {
      "cell_type": "code",
      "metadata": {
        "id": "JOvjljSjDKmG"
      },
      "source": [
        "model.compile(optimizer = 'adam',\n",
        "              loss = tf.keras.losses.SparseCategoricalCrossentropy(from_logits = True),\n",
        "              metrics = (['accuracy'])\n",
        "              )"
      ],
      "execution_count": null,
      "outputs": []
    },
    {
      "cell_type": "code",
      "metadata": {
        "id": "LenGaGyxDiHZ",
        "outputId": "ff414a45-a4f1-40a3-f54a-1ebe72c0b6f7",
        "colab": {
          "base_uri": "https://localhost:8080/",
          "height": 697
        }
      },
      "source": [
        "EPOCHS = 20\n",
        "history = model.fit_generator(train_data_gen,\n",
        "                              steps_per_epoch=int(np.ceil(total_train / float(BATCH_SIZE))),\n",
        "                              epochs = EPOCHS,\n",
        "                              validation_data = validation_data_gen,\n",
        "                              validation_steps=int(np.ceil(total_val / float(BATCH_SIZE)))\n",
        "                              )"
      ],
      "execution_count": null,
      "outputs": [
        {
          "output_type": "stream",
          "text": [
            "Epoch 1/20\n",
            "63/63 [==============================] - 18s 288ms/step - loss: 0.6946 - accuracy: 0.4970 - val_loss: 0.6837 - val_accuracy: 0.4990\n",
            "Epoch 2/20\n",
            "63/63 [==============================] - 18s 285ms/step - loss: 0.6933 - accuracy: 0.5065 - val_loss: 0.6919 - val_accuracy: 0.5890\n",
            "Epoch 3/20\n",
            "63/63 [==============================] - 18s 282ms/step - loss: 0.6920 - accuracy: 0.5110 - val_loss: 0.6901 - val_accuracy: 0.5550\n",
            "Epoch 4/20\n",
            "63/63 [==============================] - 18s 284ms/step - loss: 0.6897 - accuracy: 0.5390 - val_loss: 0.6815 - val_accuracy: 0.5760\n",
            "Epoch 5/20\n",
            "63/63 [==============================] - 18s 284ms/step - loss: 0.6819 - accuracy: 0.5640 - val_loss: 0.6712 - val_accuracy: 0.5920\n",
            "Epoch 6/20\n",
            "63/63 [==============================] - 18s 282ms/step - loss: 0.6826 - accuracy: 0.5535 - val_loss: 0.7135 - val_accuracy: 0.5260\n",
            "Epoch 7/20\n",
            "63/63 [==============================] - 18s 282ms/step - loss: 0.6669 - accuracy: 0.5865 - val_loss: 0.6788 - val_accuracy: 0.5720\n",
            "Epoch 8/20\n",
            "63/63 [==============================] - 18s 285ms/step - loss: 0.6677 - accuracy: 0.5830 - val_loss: 0.6487 - val_accuracy: 0.6140\n",
            "Epoch 9/20\n",
            "63/63 [==============================] - 18s 282ms/step - loss: 0.6506 - accuracy: 0.6010 - val_loss: 0.6308 - val_accuracy: 0.6490\n",
            "Epoch 10/20\n",
            "63/63 [==============================] - 18s 280ms/step - loss: 0.6832 - accuracy: 0.5675 - val_loss: 0.8017 - val_accuracy: 0.5090\n",
            "Epoch 11/20\n",
            "63/63 [==============================] - 18s 281ms/step - loss: 0.8110 - accuracy: 0.5020 - val_loss: 0.8133 - val_accuracy: 0.5000\n",
            "Epoch 12/20\n",
            "63/63 [==============================] - 17s 278ms/step - loss: 0.8127 - accuracy: 0.5005 - val_loss: 0.8135 - val_accuracy: 0.5000\n",
            "Epoch 13/20\n",
            "63/63 [==============================] - 17s 275ms/step - loss: 0.8061 - accuracy: 0.5065 - val_loss: 0.8133 - val_accuracy: 0.5000\n",
            "Epoch 14/20\n",
            "63/63 [==============================] - 17s 274ms/step - loss: 0.8123 - accuracy: 0.5010 - val_loss: 0.8133 - val_accuracy: 0.5000\n",
            "Epoch 15/20\n",
            "63/63 [==============================] - 17s 278ms/step - loss: 0.8132 - accuracy: 0.5000 - val_loss: 0.8133 - val_accuracy: 0.5000\n",
            "Epoch 16/20\n",
            "63/63 [==============================] - 17s 277ms/step - loss: 0.8128 - accuracy: 0.5005 - val_loss: 0.8133 - val_accuracy: 0.5000\n",
            "Epoch 17/20\n",
            "63/63 [==============================] - 17s 275ms/step - loss: 0.8123 - accuracy: 0.5010 - val_loss: 0.8133 - val_accuracy: 0.5000\n",
            "Epoch 18/20\n",
            "63/63 [==============================] - 18s 280ms/step - loss: 0.8115 - accuracy: 0.5015 - val_loss: 0.8065 - val_accuracy: 0.5060\n",
            "Epoch 19/20\n",
            "63/63 [==============================] - 18s 278ms/step - loss: 0.8140 - accuracy: 0.4990 - val_loss: 0.8133 - val_accuracy: 0.5000\n",
            "Epoch 20/20\n",
            "63/63 [==============================] - 17s 277ms/step - loss: 0.8123 - accuracy: 0.5010 - val_loss: 0.8133 - val_accuracy: 0.5000\n"
          ],
          "name": "stdout"
        }
      ]
    }
  ]
}